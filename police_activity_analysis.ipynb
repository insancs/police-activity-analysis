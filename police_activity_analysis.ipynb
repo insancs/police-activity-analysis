{
 "cells": [
  {
   "cell_type": "code",
   "execution_count": 1,
   "id": "domestic-broadcasting",
   "metadata": {},
   "outputs": [
    {
     "name": "stdout",
     "output_type": "stream",
     "text": [
      "  state   stop_date stop_time  county_name driver_gender driver_race  \\\n",
      "0    RI  2005-01-04     12:55          NaN             M       White   \n",
      "1    RI  2005-01-23     23:15          NaN             M       White   \n",
      "2    RI  2005-02-17     04:15          NaN             M       White   \n",
      "3    RI  2005-02-20     17:15          NaN             M       White   \n",
      "4    RI  2005-02-24     01:20          NaN             F       White   \n",
      "\n",
      "                    violation_raw  violation  search_conducted search_type  \\\n",
      "0  Equipment/Inspection Violation  Equipment             False         NaN   \n",
      "1                        Speeding   Speeding             False         NaN   \n",
      "2                        Speeding   Speeding             False         NaN   \n",
      "3                Call for Service      Other             False         NaN   \n",
      "4                        Speeding   Speeding             False         NaN   \n",
      "\n",
      "    stop_outcome is_arrested stop_duration  drugs_related_stop district  \n",
      "0       Citation       False      0-15 Min               False  Zone X4  \n",
      "1       Citation       False      0-15 Min               False  Zone K3  \n",
      "2       Citation       False      0-15 Min               False  Zone X4  \n",
      "3  Arrest Driver        True     16-30 Min               False  Zone X1  \n",
      "4       Citation       False      0-15 Min               False  Zone X3  \n"
     ]
    }
   ],
   "source": [
    "import pandas as pd\n",
    "import matplotlib.pyplot as plt\n",
    "\n",
    "police = pd.read_csv('E:/DQLab/Dataset/Datacamp/police.csv')\n",
    "print(police.head())"
   ]
  },
  {
   "cell_type": "code",
   "execution_count": 2,
   "id": "becoming-retirement",
   "metadata": {},
   "outputs": [
    {
     "name": "stdout",
     "output_type": "stream",
     "text": [
      "<class 'pandas.core.frame.DataFrame'>\n",
      "RangeIndex: 91741 entries, 0 to 91740\n",
      "Data columns (total 15 columns):\n",
      " #   Column              Non-Null Count  Dtype  \n",
      "---  ------              --------------  -----  \n",
      " 0   state               91741 non-null  object \n",
      " 1   stop_date           91741 non-null  object \n",
      " 2   stop_time           91741 non-null  object \n",
      " 3   county_name         0 non-null      float64\n",
      " 4   driver_gender       86536 non-null  object \n",
      " 5   driver_race         86539 non-null  object \n",
      " 6   violation_raw       86539 non-null  object \n",
      " 7   violation           86539 non-null  object \n",
      " 8   search_conducted    91741 non-null  bool   \n",
      " 9   search_type         3307 non-null   object \n",
      " 10  stop_outcome        86539 non-null  object \n",
      " 11  is_arrested         86539 non-null  object \n",
      " 12  stop_duration       86539 non-null  object \n",
      " 13  drugs_related_stop  91741 non-null  bool   \n",
      " 14  district            91741 non-null  object \n",
      "dtypes: bool(2), float64(1), object(12)None\n"
     ]
    }
   ],
   "source": [
    "# Count the number of missing values in each column\n",
    "print(police.info(memory_usage=False))"
   ]
  },
  {
   "cell_type": "code",
   "execution_count": 3,
   "id": "dress-question",
   "metadata": {},
   "outputs": [
    {
     "name": "stdout",
     "output_type": "stream",
     "text": [
      "state                     0\n",
      "stop_date                 0\n",
      "stop_time                 0\n",
      "county_name           91741\n",
      "driver_gender          5205\n",
      "driver_race            5202\n",
      "violation_raw          5202\n",
      "violation              5202\n",
      "search_conducted          0\n",
      "search_type           88434\n",
      "stop_outcome           5202\n",
      "is_arrested            5202\n",
      "stop_duration          5202\n",
      "drugs_related_stop        0\n",
      "district                  0\n",
      "dtype: int64\n"
     ]
    }
   ],
   "source": [
    "# Count the number of missing values in each column\n",
    "print(police.isnull().sum())"
   ]
  },
  {
   "cell_type": "code",
   "execution_count": 4,
   "id": "first-documentary",
   "metadata": {},
   "outputs": [
    {
     "name": "stdout",
     "output_type": "stream",
     "text": [
      "Before column deletion : 91741 rows, 15 columns\n",
      "\n",
      "After column deletion : 91741 rows, 13 columns\n"
     ]
    }
   ],
   "source": [
    "# Examine the shape of the DataFrame\n",
    "print(\"Before column deletion : %d rows, %d columns\" % police.shape)\n",
    "\n",
    "# Drop the 'county_name' and 'state' columns\n",
    "police.drop(['county_name', 'state'], axis='columns', inplace=True)\n",
    "\n",
    "# Examine the shape of the DataFrame (again)\n",
    "print(\"\\nAfter column deletion : %d rows, %d columns\" %police.shape)"
   ]
  },
  {
   "cell_type": "code",
   "execution_count": 5,
   "id": "important-lucas",
   "metadata": {},
   "outputs": [
    {
     "name": "stdout",
     "output_type": "stream",
     "text": [
      "stop_date                 0\n",
      "stop_time                 0\n",
      "driver_gender             0\n",
      "driver_race               0\n",
      "violation_raw             0\n",
      "violation                 0\n",
      "search_conducted          0\n",
      "search_type           83229\n",
      "stop_outcome              0\n",
      "is_arrested               0\n",
      "stop_duration             0\n",
      "drugs_related_stop        0\n",
      "district                  0\n",
      "dtype: int64\n"
     ]
    }
   ],
   "source": [
    "# Drop all rows that are missing 'driver_gender'\n",
    "police.dropna(subset=['driver_gender'], inplace=True)\n",
    "\n",
    "# Count the number of missing values in each column (again)\n",
    "print(police.isnull().sum())"
   ]
  },
  {
   "cell_type": "code",
   "execution_count": 6,
   "id": "civic-syracuse",
   "metadata": {},
   "outputs": [
    {
     "name": "stdout",
     "output_type": "stream",
     "text": [
      "(86536, 13)\n"
     ]
    }
   ],
   "source": [
    "# Examine the shape of the DataFrame\n",
    "print(police.shape)"
   ]
  },
  {
   "cell_type": "code",
   "execution_count": 7,
   "id": "indoor-helena",
   "metadata": {},
   "outputs": [
    {
     "name": "stdout",
     "output_type": "stream",
     "text": [
      "stop_date             object\n",
      "stop_time             object\n",
      "driver_gender         object\n",
      "driver_race           object\n",
      "violation_raw         object\n",
      "violation             object\n",
      "search_conducted        bool\n",
      "search_type           object\n",
      "stop_outcome          object\n",
      "is_arrested             bool\n",
      "stop_duration         object\n",
      "drugs_related_stop      bool\n",
      "district              object\n",
      "dtype: object\n"
     ]
    }
   ],
   "source": [
    "# Change the data type of 'is_arrested' to 'bool'\n",
    "police['is_arrested'] = police.is_arrested.astype('bool')\n",
    "\n",
    "# Check the data type of 'is_arrested' \n",
    "print(police.dtypes)"
   ]
  },
  {
   "cell_type": "code",
   "execution_count": 8,
   "id": "residential-jurisdiction",
   "metadata": {},
   "outputs": [
    {
     "name": "stdout",
     "output_type": "stream",
     "text": [
      "stop_date                     object\n",
      "stop_time                     object\n",
      "driver_gender                 object\n",
      "driver_race                   object\n",
      "violation_raw                 object\n",
      "violation                     object\n",
      "search_conducted                bool\n",
      "search_type                   object\n",
      "stop_outcome                  object\n",
      "is_arrested                     bool\n",
      "stop_duration                 object\n",
      "drugs_related_stop              bool\n",
      "district                      object\n",
      "stop_datetime         datetime64[ns]\n",
      "dtype: object\n"
     ]
    }
   ],
   "source": [
    "# Concatenate 'stop_date' and 'stop_time' (separated by a space)\n",
    "combined = police['stop_date'].str.cat(police['stop_time'], sep=' ')\n",
    "\n",
    "# Convert 'combined' to datetime format\n",
    "police['stop_datetime'] = pd.to_datetime(combined)\n",
    "\n",
    "# Examine the data types of the DataFrame\n",
    "print(police.dtypes)"
   ]
  },
  {
   "cell_type": "code",
   "execution_count": 9,
   "id": "cordless-terminal",
   "metadata": {},
   "outputs": [
    {
     "name": "stdout",
     "output_type": "stream",
     "text": [
      "DatetimeIndex(['2005-01-04 12:55:00', '2005-01-23 23:15:00',\n",
      "               '2005-02-17 04:15:00', '2005-02-20 17:15:00',\n",
      "               '2005-02-24 01:20:00', '2005-03-14 10:00:00',\n",
      "               '2005-03-29 21:55:00', '2005-04-04 21:25:00',\n",
      "               '2005-07-14 11:20:00', '2005-07-14 19:55:00',\n",
      "               ...\n",
      "               '2015-12-31 13:23:00', '2015-12-31 18:59:00',\n",
      "               '2015-12-31 19:13:00', '2015-12-31 20:20:00',\n",
      "               '2015-12-31 20:50:00', '2015-12-31 21:21:00',\n",
      "               '2015-12-31 21:59:00', '2015-12-31 22:04:00',\n",
      "               '2015-12-31 22:09:00', '2015-12-31 22:47:00'],\n",
      "              dtype='datetime64[ns]', name='stop_datetime', length=86536, freq=None)\n"
     ]
    }
   ],
   "source": [
    "# Set 'stop_datetime' as the index\n",
    "police.set_index('stop_datetime', inplace=True)\n",
    "\n",
    "# Examine the index\n",
    "print(police.index)"
   ]
  },
  {
   "cell_type": "code",
   "execution_count": 10,
   "id": "solved-sweet",
   "metadata": {},
   "outputs": [
    {
     "name": "stdout",
     "output_type": "stream",
     "text": [
      "Speeding               48423\n",
      "Moving violation       16224\n",
      "Equipment              10921\n",
      "Other                   4409\n",
      "Registration/plates     3703\n",
      "Seat belt               2856\n",
      "Name: violation, dtype: int64\n",
      "--------------------------------\n",
      "Speeding               0.559571\n",
      "Moving violation       0.187483\n",
      "Equipment              0.126202\n",
      "Other                  0.050950\n",
      "Registration/plates    0.042791\n",
      "Seat belt              0.033004\n",
      "Name: violation, dtype: float64\n"
     ]
    }
   ],
   "source": [
    "# Count the unique values in 'violation'\n",
    "print(police.violation.value_counts())\n",
    "\n",
    "print(\"--------------------------------\")\n",
    "\n",
    "# Express the counts as proportions\n",
    "print(police.violation.value_counts(normalize=True))"
   ]
  },
  {
   "cell_type": "code",
   "execution_count": 11,
   "id": "asian-shuttle",
   "metadata": {},
   "outputs": [
    {
     "name": "stdout",
     "output_type": "stream",
     "text": [
      "Female Violation :\n",
      " Speeding               0.658114\n",
      "Moving violation       0.138218\n",
      "Equipment              0.105199\n",
      "Registration/plates    0.044418\n",
      "Other                  0.029738\n",
      "Seat belt              0.024312\n",
      "Name: violation, dtype: float64\n",
      "---------------------------------\n",
      "Male Violation :\n",
      " Speeding               0.522243\n",
      "Moving violation       0.206144\n",
      "Equipment              0.134158\n",
      "Other                  0.058985\n",
      "Registration/plates    0.042175\n",
      "Seat belt              0.036296\n",
      "Name: violation, dtype: float64\n"
     ]
    }
   ],
   "source": [
    "# Create a DataFrame of female drivers\n",
    "female = police[police['driver_gender'] == 'F']\n",
    "\n",
    "# Create a DataFrame of male drivers\n",
    "male = police[police['driver_gender'] == 'M']\n",
    "\n",
    "# Compute the violations by female drivers (as proportions)\n",
    "print(\"Female Violation :\\n\", female.violation.value_counts(normalize=True))\n",
    "\n",
    "print(\"---------------------------------\") \n",
    "\n",
    "# Compute the violations by male drivers (as proportions)\n",
    "print(\"Male Violation :\\n\", male.violation.value_counts(normalize=True))\n",
    "\n",
    "# # Single line\n",
    "# police.groupby('driver_gender')['violation'].value_counts(normalize=True)"
   ]
  },
  {
   "cell_type": "code",
   "execution_count": 12,
   "id": "connected-solomon",
   "metadata": {},
   "outputs": [
    {
     "name": "stdout",
     "output_type": "stream",
     "text": [
      "Female Speeding :\n",
      " Citation            0.952192\n",
      "Warning             0.040074\n",
      "Arrest Driver       0.005752\n",
      "N/D                 0.000959\n",
      "Arrest Passenger    0.000639\n",
      "No Action           0.000383\n",
      "Name: stop_outcome, dtype: float64\n",
      "---------------------------------\n",
      "Male Speeding :\n",
      " Citation            0.944595\n",
      "Warning             0.036184\n",
      "Arrest Driver       0.015895\n",
      "Arrest Passenger    0.001281\n",
      "No Action           0.001068\n",
      "N/D                 0.000976\n",
      "Name: stop_outcome, dtype: float64\n"
     ]
    }
   ],
   "source": [
    "# Create a DataFrame of female drivers stopped for speeding\n",
    "female_and_speeding = police[(police['driver_gender'] == 'F') & (police['violation'] == 'Speeding')]\n",
    "\n",
    "# Create a DataFrame of male drivers stopped for speeding\n",
    "male_and_speeding = police[(police['driver_gender'] == 'M') & (police['violation'] == 'Speeding')]\n",
    "\n",
    "# Compute the stop outcomes for female drivers (as proportions)\n",
    "print(\"Female Speeding :\\n\",female_and_speeding.stop_outcome.value_counts(normalize=True))\n",
    "\n",
    "print(\"---------------------------------\") \n",
    "\n",
    "# Compute the stop outcomes for male drivers (as proportions)\n",
    "print(\"Male Speeding :\\n\", male_and_speeding.stop_outcome.value_counts(normalize=True))\n",
    "\n",
    "# # Single line \n",
    "# police[police['violation'] == 'Speeding'].groupby('driver_gender')['stop_outcome'].value_counts(normalize=True)"
   ]
  },
  {
   "cell_type": "code",
   "execution_count": 13,
   "id": "recovered-lightning",
   "metadata": {},
   "outputs": [
    {
     "name": "stdout",
     "output_type": "stream",
     "text": [
      "False    0.961785\n",
      "True     0.038215\n",
      "Name: search_conducted, dtype: float64\n",
      "0.0382153092354627\n"
     ]
    }
   ],
   "source": [
    "# Calculate the search rate by counting the values\n",
    "print(police['search_conducted'].value_counts(normalize=True))\n",
    "\n",
    "# Calculate the search rate by taking the mean\n",
    "print(police['search_conducted'].mean())"
   ]
  },
  {
   "cell_type": "code",
   "execution_count": 14,
   "id": "metallic-narrative",
   "metadata": {},
   "outputs": [
    {
     "name": "stdout",
     "output_type": "stream",
     "text": [
      "driver_gender\n",
      "F    0.019181\n",
      "M    0.045426\n",
      "Name: search_conducted, dtype: float64\n"
     ]
    }
   ],
   "source": [
    "# Calculate the search rate for both groups simultaneously\n",
    "print(police.groupby('driver_gender').search_conducted.mean())"
   ]
  },
  {
   "cell_type": "code",
   "execution_count": 15,
   "id": "peripheral-mills",
   "metadata": {},
   "outputs": [
    {
     "name": "stdout",
     "output_type": "stream",
     "text": [
      "driver_gender  violation          \n",
      "F              Equipment              0.039984\n",
      "               Moving violation       0.039257\n",
      "               Other                  0.041018\n",
      "               Registration/plates    0.054924\n",
      "               Seat belt              0.017301\n",
      "               Speeding               0.008309\n",
      "M              Equipment              0.071496\n",
      "               Moving violation       0.061524\n",
      "               Other                  0.046191\n",
      "               Registration/plates    0.108802\n",
      "               Seat belt              0.035119\n",
      "               Speeding               0.027885\n",
      "Name: search_conducted, dtype: float64\n"
     ]
    }
   ],
   "source": [
    "# Calculate the search rate for each combination of gender and violation\n",
    "print(police.groupby(['driver_gender', 'violation']).search_conducted.mean())"
   ]
  },
  {
   "cell_type": "code",
   "execution_count": 16,
   "id": "vocational-integration",
   "metadata": {},
   "outputs": [
    {
     "name": "stdout",
     "output_type": "stream",
     "text": [
      "violation            driver_gender\n",
      "Equipment            F                0.039984\n",
      "                     M                0.071496\n",
      "Moving violation     F                0.039257\n",
      "                     M                0.061524\n",
      "Other                F                0.041018\n",
      "                     M                0.046191\n",
      "Registration/plates  F                0.054924\n",
      "                     M                0.108802\n",
      "Seat belt            F                0.017301\n",
      "                     M                0.035119\n",
      "Speeding             F                0.008309\n",
      "                     M                0.027885\n",
      "Name: search_conducted, dtype: float64\n"
     ]
    }
   ],
   "source": [
    "# Reverse the ordering to group by violation before gender\n",
    "print(police.groupby(['violation', 'driver_gender']).search_conducted.mean())"
   ]
  },
  {
   "cell_type": "code",
   "execution_count": 17,
   "id": "golden-timeline",
   "metadata": {},
   "outputs": [
    {
     "name": "stdout",
     "output_type": "stream",
     "text": [
      "Incident to Arrest                                          1290\n",
      "Probable Cause                                               924\n",
      "Inventory                                                    219\n",
      "Reasonable Suspicion                                         214\n",
      "Protective Frisk                                             164\n",
      "Incident to Arrest,Inventory                                 123\n",
      "Incident to Arrest,Probable Cause                            100\n",
      "Probable Cause,Reasonable Suspicion                           54\n",
      "Probable Cause,Protective Frisk                               35\n",
      "Incident to Arrest,Inventory,Probable Cause                   35\n",
      "Incident to Arrest,Protective Frisk                           33\n",
      "Inventory,Probable Cause                                      25\n",
      "Protective Frisk,Reasonable Suspicion                         19\n",
      "Incident to Arrest,Inventory,Protective Frisk                 18\n",
      "Incident to Arrest,Probable Cause,Protective Frisk            13\n",
      "Inventory,Protective Frisk                                    12\n",
      "Incident to Arrest,Reasonable Suspicion                        8\n",
      "Incident to Arrest,Probable Cause,Reasonable Suspicion         5\n",
      "Probable Cause,Protective Frisk,Reasonable Suspicion           5\n",
      "Incident to Arrest,Inventory,Reasonable Suspicion              4\n",
      "Incident to Arrest,Protective Frisk,Reasonable Suspicion       2\n",
      "Inventory,Reasonable Suspicion                                 2\n",
      "Inventory,Protective Frisk,Reasonable Suspicion                1\n",
      "Inventory,Probable Cause,Reasonable Suspicion                  1\n",
      "Inventory,Probable Cause,Protective Frisk                      1\n",
      "Name: search_type, dtype: int64\n",
      "--------------------------\n",
      "Number of drivers being searched :  303\n"
     ]
    }
   ],
   "source": [
    "# Count the 'search_type' values\n",
    "print(police.search_type.value_counts())\n",
    "\n",
    "print(\"--------------------------\")\n",
    "# Check if 'search_type' contains the string 'Protective Frisk'\n",
    "police['frisk'] = police.search_type.str.contains('Protective Frisk', na=False)\n",
    "\n",
    "# # Check the data type of 'frisk'\n",
    "# print(police.frisk.dtype)\n",
    "\n",
    "# Take the sum of 'frisk'\n",
    "print(\"Number of drivers being searched : \", police['frisk'].sum())"
   ]
  },
  {
   "cell_type": "code",
   "execution_count": 18,
   "id": "patent-diagram",
   "metadata": {},
   "outputs": [
    {
     "name": "stdout",
     "output_type": "stream",
     "text": [
      "0.09162382824312065\n",
      "driver_gender\n",
      "F    0.074561\n",
      "M    0.094353\n",
      "Name: frisk, dtype: float64\n"
     ]
    }
   ],
   "source": [
    "# Create a DataFrame of stops in which a search was conducted\n",
    "searched = police[police.search_conducted == True]\n",
    "\n",
    "# Calculate the overall frisk rate by taking the mean of 'frisk'\n",
    "print(searched['frisk'].mean())\n",
    "\n",
    "# Calculate the frisk rate for each gender\n",
    "print(searched.groupby('driver_gender').frisk.mean())"
   ]
  },
  {
   "cell_type": "code",
   "execution_count": 19,
   "id": "demanding-victory",
   "metadata": {},
   "outputs": [
    {
     "name": "stdout",
     "output_type": "stream",
     "text": [
      "Rata-rata penangkapan : 0.0355690117407784\n",
      "Rata-rata penangkapan per jam :\n",
      " stop_datetime\n",
      "0     0.051431\n",
      "1     0.064932\n",
      "2     0.060798\n",
      "3     0.060549\n",
      "4     0.048000\n",
      "5     0.042781\n",
      "6     0.013813\n",
      "7     0.013032\n",
      "8     0.021854\n",
      "9     0.025206\n",
      "10    0.028213\n",
      "11    0.028897\n",
      "12    0.037399\n",
      "13    0.030776\n",
      "14    0.030605\n",
      "15    0.030679\n",
      "16    0.035281\n",
      "17    0.040619\n",
      "18    0.038204\n",
      "19    0.032245\n",
      "20    0.038107\n",
      "21    0.064541\n",
      "22    0.048666\n",
      "23    0.047592\n",
      "Name: is_arrested, dtype: float64\n"
     ]
    }
   ],
   "source": [
    "# Calculate the overall arrest rate\n",
    "print(\"Rata-rata penangkapan :\", police['is_arrested'].mean())\n",
    "\n",
    "# Calculate the hourly arrest rate\n",
    "print(\"Rata-rata penangkapan per jam :\\n\", police.groupby(police.index.hour).is_arrested.mean())\n",
    "\n",
    "# Save the hourly arrest rate\n",
    "hourly_arrest_rate = police.groupby(police.index.hour).is_arrested.mean()"
   ]
  },
  {
   "cell_type": "code",
   "execution_count": 20,
   "id": "affiliated-bikini",
   "metadata": {},
   "outputs": [
    {
     "data": {
      "image/png": "[encoded data removed]",
      "text/plain": [
       "<Figure size 648x432 with 1 Axes>"
      ]
     },
     "metadata": {
      "needs_background": "light"
     },
     "output_type": "display_data"
    }
   ],
   "source": [
    "# Create a line plot of 'hourly_arrest_rate'\n",
    "hourly_arrest_rate.plot()\n",
    "\n",
    "# Add the title, ylabel, and ylabel\n",
    "plt.title(\"Arrest Rate by Time of Day\", fontsize=20, pad=15)\n",
    "plt.xlabel(\"Hour\")\n",
    "plt.ylabel(\"Arrest Rate\")\n",
    "plt.gcf().set_size_inches(9, 6)\n",
    "# Display the plot\n",
    "plt.show()"
   ]
  },
  {
   "cell_type": "code",
   "execution_count": 21,
   "id": "essential-holly",
   "metadata": {},
   "outputs": [
    {
     "name": "stdout",
     "output_type": "stream",
     "text": [
      "stop_datetime\n",
      "2005-12-31    0.006501\n",
      "2006-12-31    0.007258\n",
      "2007-12-31    0.007970\n",
      "2008-12-31    0.007505\n",
      "2009-12-31    0.009889\n",
      "2010-12-31    0.010081\n",
      "2011-12-31    0.009731\n",
      "2012-12-31    0.009921\n",
      "2013-12-31    0.013094\n",
      "2014-12-31    0.013826\n",
      "2015-12-31    0.012266\n",
      "Freq: A-DEC, Name: drugs_related_stop, dtype: float64\n"
     ]
    }
   ],
   "source": [
    "# Calculate the annual rate of drug-related stops\n",
    "print(police.drugs_related_stop.resample('A').mean())\n",
    "\n",
    "# Save the annual rate of drug-related stops\n",
    "annual_drug_rate = police.drugs_related_stop.resample('A').mean()"
   ]
  },
  {
   "cell_type": "code",
   "execution_count": 22,
   "id": "continent-vienna",
   "metadata": {},
   "outputs": [
    {
     "data": {
      "image/png": "[encoded data removed]",
      "text/plain": [
       "<Figure size 648x432 with 1 Axes>"
      ]
     },
     "metadata": {
      "needs_background": "light"
     },
     "output_type": "display_data"
    }
   ],
   "source": [
    "# Create a line plot of 'annual_drug_rate'\n",
    "annual_drug_rate.plot()\n",
    "\n",
    "plt.title(\"Annual Drug-Related Discontinuation\", fontsize=20, pad=15)\n",
    "plt.xlabel(\"Year\")\n",
    "plt.gcf().set_size_inches(9, 6)\n",
    "# Display the plot\n",
    "plt.show()"
   ]
  },
  {
   "cell_type": "code",
   "execution_count": 23,
   "id": "numerical-berlin",
   "metadata": {},
   "outputs": [
    {
     "data": {
      "image/png": "[encoded data removed]",
      "text/plain": [
       "<Figure size 648x648 with 2 Axes>"
      ]
     },
     "metadata": {
      "needs_background": "light"
     },
     "output_type": "display_data"
    }
   ],
   "source": [
    "# Calculate and save the annual search rate\n",
    "annual_search_rate = police.search_conducted.resample('A').mean()\n",
    "\n",
    "# Concatenate 'annual_drug_rate' and 'annual_search_rate'\n",
    "annual = pd.concat([annual_drug_rate, annual_search_rate], axis='columns')\n",
    "\n",
    "# Create subplots from 'annual'\n",
    "annual.plot(subplots=True)\n",
    "plt.xlabel(\"Year\")\n",
    "plt.gcf().set_size_inches(9, 9)\n",
    "# Display the subplots\n",
    "plt.show()"
   ]
  },
  {
   "cell_type": "code",
   "execution_count": 24,
   "id": "important-flooring",
   "metadata": {},
   "outputs": [
    {
     "name": "stdout",
     "output_type": "stream",
     "text": [
      "violation  Equipment  Moving violation  Other  Registration/plates  Seat belt  \\\n",
      "district                                                                        \n",
      "Zone K1          672              1254    290                  120          0   \n",
      "Zone K2         2061              2962    942                  768        481   \n",
      "Zone K3         2302              2898    705                  695        638   \n",
      "Zone X1          296               671    143                   38         74   \n",
      "Zone X3         2049              3086    769                  671        820   \n",
      "Zone X4         3541              5353   1560                 1411        843   \n",
      "\n",
      "violation  Speeding  \n",
      "district             \n",
      "Zone K1        5960  \n",
      "Zone K2       10448  \n",
      "Zone K3       12322  \n",
      "Zone X1        1119  \n",
      "Zone X3        8779  \n",
      "Zone X4        9795  \n"
     ]
    }
   ],
   "source": [
    "# Create a frequency table of districts and violations\n",
    "print(pd.crosstab(police.district, police.violation))\n",
    "\n",
    "# Save the frequency table as 'all_zones'\n",
    "all_zones = pd.crosstab(police.district, police.violation)"
   ]
  },
  {
   "cell_type": "code",
   "execution_count": 25,
   "id": "explicit-rocket",
   "metadata": {},
   "outputs": [
    {
     "name": "stdout",
     "output_type": "stream",
     "text": [
      "violation  Equipment  Moving violation  Other  Registration/plates  Seat belt  \\\n",
      "district                                                                        \n",
      "Zone K1          672              1254    290                  120          0   \n",
      "Zone K2         2061              2962    942                  768        481   \n",
      "Zone K3         2302              2898    705                  695        638   \n",
      "\n",
      "violation  Speeding  \n",
      "district             \n",
      "Zone K1        5960  \n",
      "Zone K2       10448  \n",
      "Zone K3       12322  \n"
     ]
    }
   ],
   "source": [
    "# Select rows 'Zone K1' through 'Zone K3'\n",
    "print(all_zones.loc['Zone K1':'Zone K3'])\n",
    "\n",
    "# Save the smaller table as 'k_zones'\n",
    "k_zones = all_zones.loc['Zone K1':'Zone K3']"
   ]
  },
  {
   "cell_type": "code",
   "execution_count": 26,
   "id": "daily-battle",
   "metadata": {},
   "outputs": [
    {
     "data": {
      "image/png": "[encoded data removed]",
      "text/plain": [
       "<Figure size 720x432 with 1 Axes>"
      ]
     },
     "metadata": {
      "needs_background": "light"
     },
     "output_type": "display_data"
    }
   ],
   "source": [
    "# Create a bar plot of 'k_zones'\n",
    "k_zones.plot(kind='bar')\n",
    "plt.title(\"Violation by District\", fontsize=20, pad=15)\n",
    "plt.xticks(rotation=0)\n",
    "plt.legend(loc='upper right', bbox_to_anchor=[1.25, 1.0])\n",
    "plt.gcf().set_size_inches(10, 6)\n",
    "# Display the plot\n",
    "plt.show()"
   ]
  },
  {
   "cell_type": "code",
   "execution_count": 27,
   "id": "overall-pasta",
   "metadata": {},
   "outputs": [
    {
     "name": "stdout",
     "output_type": "stream",
     "text": [
      "['0-15 Min' '16-30 Min' '30+ Min']\n",
      "[ 8 23 45]\n"
     ]
    }
   ],
   "source": [
    "# Print the unique values in 'stop_duration'\n",
    "print(police.stop_duration.unique())\n",
    "\n",
    "# Create a dictionary that maps strings to integers\n",
    "mapping = {'0-15 Min':8, '16-30 Min':23, '30+ Min':45}\n",
    "\n",
    "# Convert the 'stop_duration' strings to integers using the 'mapping'\n",
    "police['stop_minutes'] = police.stop_duration.map(mapping)\n",
    "\n",
    "# Print the unique values in 'stop_minutes'\n",
    "print(police['stop_minutes'].unique())"
   ]
  },
  {
   "cell_type": "code",
   "execution_count": 28,
   "id": "bigger-effect",
   "metadata": {},
   "outputs": [
    {
     "data": {
      "image/png": "[encoded data removed]",
      "text/plain": [
       "<Figure size 720x432 with 1 Axes>"
      ]
     },
     "metadata": {
      "needs_background": "light"
     },
     "output_type": "display_data"
    }
   ],
   "source": [
    "# Save the resulting Series as 'stop_length'\n",
    "stop_length = police.groupby('violation_raw').stop_minutes.mean()\n",
    "\n",
    "# Sort 'stop_length' by its values and create a horizontal bar plot\n",
    "stop_length.sort_values().plot(kind='barh')\n",
    "plt.title(\"Violation Stop Duration\", fontsize=20)\n",
    "plt.gcf().set_size_inches(10, 6)\n",
    "# Display the plot\n",
    "plt.show()"
   ]
  },
  {
   "cell_type": "markdown",
   "id": "introductory-valentine",
   "metadata": {},
   "source": [
    "Part 2"
   ]
  },
  {
   "cell_type": "code",
   "execution_count": 29,
   "id": "committed-coordination",
   "metadata": {},
   "outputs": [
    {
     "name": "stdout",
     "output_type": "stream",
     "text": [
      "       STATION        DATE  TAVG  TMIN  TMAX  AWND  WSF2  WT01  WT02  WT03  \\\n",
      "0  USW00014765  2005-01-01  44.0    35    53  8.95  25.1   1.0   NaN   NaN   \n",
      "1  USW00014765  2005-01-02  36.0    28    44  9.40  14.1   NaN   NaN   NaN   \n",
      "2  USW00014765  2005-01-03  49.0    44    53  6.93  17.0   1.0   NaN   NaN   \n",
      "3  USW00014765  2005-01-04  42.0    39    45  6.93  16.1   1.0   NaN   NaN   \n",
      "4  USW00014765  2005-01-05  36.0    28    43  7.83  17.0   1.0   NaN   NaN   \n",
      "\n",
      "   ...  WT11  WT13  WT14  WT15  WT16  WT17  WT18  WT19  WT21  WT22  \n",
      "0  ...   NaN   1.0   NaN   NaN   NaN   NaN   NaN   NaN   NaN   NaN  \n",
      "1  ...   NaN   NaN   NaN   NaN   1.0   NaN   1.0   NaN   NaN   NaN  \n",
      "2  ...   NaN   1.0   NaN   NaN   1.0   NaN   NaN   NaN   NaN   NaN  \n",
      "3  ...   NaN   1.0   1.0   NaN   1.0   NaN   NaN   NaN   NaN   NaN  \n",
      "4  ...   NaN   1.0   NaN   NaN   1.0   NaN   1.0   NaN   NaN   NaN  \n",
      "\n",
      "[5 rows x 27 columns]\n"
     ]
    }
   ],
   "source": [
    "weather = pd.read_csv('E:/DQLab/Dataset/Datacamp/weather.csv')\n",
    "print(weather.head())"
   ]
  },
  {
   "cell_type": "code",
   "execution_count": 30,
   "id": "distinguished-flower",
   "metadata": {},
   "outputs": [
    {
     "data": {
      "text/plain": [
       "Index(['STATION', 'DATE', 'TAVG', 'TMIN', 'TMAX', 'AWND', 'WSF2', 'WT01',\n",
       "       'WT02', 'WT03', 'WT04', 'WT05', 'WT06', 'WT07', 'WT08', 'WT09', 'WT10',\n",
       "       'WT11', 'WT13', 'WT14', 'WT15', 'WT16', 'WT17', 'WT18', 'WT19', 'WT21',\n",
       "       'WT22'],\n",
       "      dtype='object')"
      ]
     },
     "execution_count": 30,
     "metadata": {},
     "output_type": "execute_result"
    }
   ],
   "source": [
    "# Display column name\n",
    "weather.columns"
   ]
  },
  {
   "cell_type": "code",
   "execution_count": 31,
   "id": "textile-hearts",
   "metadata": {},
   "outputs": [
    {
     "name": "stdout",
     "output_type": "stream",
     "text": [
      "<class 'pandas.core.frame.DataFrame'>\n",
      "RangeIndex: 4017 entries, 0 to 4016\n",
      "Data columns (total 27 columns):\n",
      " #   Column   Non-Null Count  Dtype  \n",
      "---  ------   --------------  -----  \n",
      " 0   STATION  4017 non-null   object \n",
      " 1   DATE     4017 non-null   object \n",
      " 2   TAVG     1217 non-null   float64\n",
      " 3   TMIN     4017 non-null   int64  \n",
      " 4   TMAX     4017 non-null   int64  \n",
      " 5   AWND     4017 non-null   float64\n",
      " 6   WSF2     4017 non-null   float64\n",
      " 7   WT01     1767 non-null   float64\n",
      " 8   WT02     221 non-null    float64\n",
      " 9   WT03     224 non-null    float64\n",
      " 10  WT04     117 non-null    float64\n",
      " 11  WT05     360 non-null    float64\n",
      " 12  WT06     25 non-null     float64\n",
      " 13  WT07     79 non-null     float64\n",
      " 14  WT08     404 non-null    float64\n",
      " 15  WT09     69 non-null     float64\n",
      " 16  WT10     2 non-null      float64\n",
      " 17  WT11     1 non-null      float64\n",
      " 18  WT13     1175 non-null   float64\n",
      " 19  WT14     575 non-null    float64\n",
      " 20  WT15     6 non-null      float64\n",
      " 21  WT16     1326 non-null   float64\n",
      " 22  WT17     12 non-null     float64\n",
      " 23  WT18     345 non-null    float64\n",
      " 24  WT19     4 non-null      float64\n",
      " 25  WT21     18 non-null     float64\n",
      " 26  WT22     32 non-null     float64\n",
      "dtypes: float64(23), int64(2), object(2)\n",
      "memory usage: 847.5+ KB\n",
      "None\n"
     ]
    }
   ],
   "source": [
    "# Display dataset information\n",
    "print(weather.info())"
   ]
  },
  {
   "cell_type": "code",
   "execution_count": 32,
   "id": "vanilla-wayne",
   "metadata": {},
   "outputs": [
    {
     "name": "stdout",
     "output_type": "stream",
     "text": [
      "              TAVG         TMIN         TMAX         AWND         WSF2  \\\n",
      "count  1217.000000  4017.000000  4017.000000  4017.000000  4017.000000   \n",
      "mean     52.493016    43.484441    61.268608     8.593707    19.274782   \n",
      "std      17.830714    17.020298    18.199517     3.364601     5.623866   \n",
      "min       6.000000    -5.000000    15.000000     0.220000     4.900000   \n",
      "25%      39.000000    30.000000    47.000000     6.260000    15.000000   \n",
      "50%      54.000000    44.000000    62.000000     8.050000    17.900000   \n",
      "75%      68.000000    58.000000    77.000000    10.290000    21.900000   \n",
      "max      86.000000    77.000000   102.000000    26.840000    48.100000   \n",
      "\n",
      "         WT01   WT02   WT03   WT04   WT05  ...  WT11    WT13   WT14  WT15  \\\n",
      "count  1767.0  221.0  224.0  117.0  360.0  ...   1.0  1175.0  575.0   6.0   \n",
      "mean      1.0    1.0    1.0    1.0    1.0  ...   1.0     1.0    1.0   1.0   \n",
      "std       0.0    0.0    0.0    0.0    0.0  ...   NaN     0.0    0.0   0.0   \n",
      "min       1.0    1.0    1.0    1.0    1.0  ...   1.0     1.0    1.0   1.0   \n",
      "25%       1.0    1.0    1.0    1.0    1.0  ...   1.0     1.0    1.0   1.0   \n",
      "50%       1.0    1.0    1.0    1.0    1.0  ...   1.0     1.0    1.0   1.0   \n",
      "75%       1.0    1.0    1.0    1.0    1.0  ...   1.0     1.0    1.0   1.0   \n",
      "max       1.0    1.0    1.0    1.0    1.0  ...   1.0     1.0    1.0   1.0   \n",
      "\n",
      "         WT16  WT17   WT18  WT19  WT21  WT22  \n",
      "count  1326.0  12.0  345.0   4.0  18.0  32.0  \n",
      "mean      1.0   1.0    1.0   1.0   1.0   1.0  \n",
      "std       0.0   0.0    0.0   0.0   0.0   0.0  \n",
      "min       1.0   1.0    1.0   1.0   1.0   1.0  \n",
      "25%       1.0   1.0    1.0   1.0   1.0   1.0  \n",
      "50%       1.0   1.0    1.0   1.0   1.0   1.0  \n",
      "75%       1.0   1.0    1.0   1.0   1.0   1.0  \n",
      "max       1.0   1.0    1.0   1.0   1.0   1.0  \n",
      "\n",
      "[8 rows x 25 columns]\n"
     ]
    }
   ],
   "source": [
    "# Display summary statistics\n",
    "print(weather.describe())"
   ]
  },
  {
   "cell_type": "code",
   "execution_count": 33,
   "id": "abstract-tackle",
   "metadata": {},
   "outputs": [
    {
     "data": {
      "image/png": "[encoded data removed]",
      "text/plain": [
       "<Figure size 432x288 with 1 Axes>"
      ]
     },
     "metadata": {
      "needs_background": "light"
     },
     "output_type": "display_data"
    }
   ],
   "source": [
    "# Create a box plot of the temperature columns\n",
    "weather[['TMIN', 'TAVG', 'TMAX']].plot(kind='box')\n",
    "\n",
    "plt.savefig('1_box temp.png')\n",
    "# Display the plot\n",
    "plt.show()"
   ]
  },
  {
   "cell_type": "code",
   "execution_count": 34,
   "id": "original-agency",
   "metadata": {},
   "outputs": [
    {
     "name": "stdout",
     "output_type": "stream",
     "text": [
      "count    4017.000000\n",
      "mean       17.784167\n",
      "std         6.350720\n",
      "min         2.000000\n",
      "25%        14.000000\n",
      "50%        18.000000\n",
      "75%        22.000000\n",
      "max        43.000000\n",
      "Name: TDIFF, dtype: float64\n"
     ]
    },
    {
     "data": {
      "image/png": "[encoded data removed]",
      "text/plain": [
       "<Figure size 576x360 with 1 Axes>"
      ]
     },
     "metadata": {
      "needs_background": "light"
     },
     "output_type": "display_data"
    }
   ],
   "source": [
    "# Create a 'TDIFF' column that represents temperature difference\n",
    "weather['TDIFF'] = weather['TMAX'] - weather['TMIN']\n",
    "\n",
    "# Describe the 'TDIFF' column\n",
    "print(weather['TDIFF'].describe())\n",
    "\n",
    "# Create a histogram with 20 bins to visualize 'TDIFF'\n",
    "weather['TDIFF'].hist(bins=20)\n",
    "\n",
    "plt.title(\"Distribution of Temperature Differences\", fontsize=20, pad=15)\n",
    "plt.gcf().set_size_inches(8, 5)\n",
    "plt.savefig(\"2_histtemp\")\n",
    "# Display the plot\n",
    "plt.show()"
   ]
  },
  {
   "cell_type": "code",
   "execution_count": 35,
   "id": "handmade-brown",
   "metadata": {},
   "outputs": [
    {
     "name": "stdout",
     "output_type": "stream",
     "text": [
      "0    1749\n",
      "1     613\n",
      "2     367\n",
      "3     380\n",
      "4     476\n",
      "5     282\n",
      "6     101\n",
      "7      41\n",
      "8       4\n",
      "9       4\n",
      "Name: bad_conditions, dtype: int64\n"
     ]
    },
    {
     "data": {
      "image/png": "[encoded data removed]",
      "text/plain": [
       "<Figure size 432x288 with 1 Axes>"
      ]
     },
     "metadata": {
      "needs_background": "light"
     },
     "output_type": "display_data"
    }
   ],
   "source": [
    "# Copy 'WT01' through 'WT22' to a new DataFrame\n",
    "WT = weather.loc[:, 'WT01':'WT22']\n",
    "\n",
    "# Calculate the sum of each row in 'WT'\n",
    "weather['bad_conditions'] = WT.sum(axis='columns')\n",
    "\n",
    "# Replace missing values in 'bad_conditions' with '0'\n",
    "weather['bad_conditions'] = weather.bad_conditions.fillna(0).astype('int')\n",
    "\n",
    "# Count the unique values in 'bad_conditions' and sort the index\n",
    "print(weather['bad_conditions'].value_counts().sort_index())\n",
    "\n",
    "# Create a histogram to visualize 'bad_conditions'\n",
    "weather.bad_conditions.hist()\n",
    "\n",
    "# Display the plot\n",
    "plt.show()"
   ]
  },
  {
   "cell_type": "code",
   "execution_count": 36,
   "id": "digital-union",
   "metadata": {},
   "outputs": [
    {
     "name": "stdout",
     "output_type": "stream",
     "text": [
      "bad      1836\n",
      "good     1749\n",
      "worse     432\n",
      "Name: rating, dtype: int64\n"
     ]
    }
   ],
   "source": [
    "# Create a dictionary that maps integers to strings\n",
    "mapping = {0:'good', 1:'bad', 2:'bad', 3:'bad', 4:'bad', 5:'worse', 6:'worse', 7:'worse', 8:'worse', 9:'worse'}\n",
    "\n",
    "# Convert the 'bad_conditions' integers to strings using the 'mapping'\n",
    "weather['rating'] = weather.bad_conditions.map(mapping)\n",
    "\n",
    "# Count the unique values in 'rating'\n",
    "print(weather.rating.value_counts())"
   ]
  },
  {
   "cell_type": "code",
   "execution_count": 37,
   "id": "isolated-calculator",
   "metadata": {},
   "outputs": [
    {
     "name": "stdout",
     "output_type": "stream",
     "text": [
      "0    bad\n",
      "1    bad\n",
      "2    bad\n",
      "3    bad\n",
      "4    bad\n",
      "Name: rating, dtype: category\n",
      "Categories (3, object): ['good' < 'bad' < 'worse']\n"
     ]
    }
   ],
   "source": [
    "# Create a list of weather ratings in logical order\n",
    "cats = ['good', 'bad', 'worse']\n",
    "\n",
    "# Change the data type of 'rating' to category\n",
    "weather['rating'] = pd.Categorical(weather['rating'], ordered=True, categories=cats)\n",
    "\n",
    "# Examine the head of 'rating'\n",
    "print(weather.rating.head())"
   ]
  },
  {
   "cell_type": "code",
   "execution_count": 38,
   "id": "based-thriller",
   "metadata": {},
   "outputs": [
    {
     "name": "stdout",
     "output_type": "stream",
     "text": [
      "        stop_datetime   stop_date stop_time driver_gender driver_race  \\\n",
      "0 2005-01-04 12:55:00  2005-01-04     12:55             M       White   \n",
      "1 2005-01-23 23:15:00  2005-01-23     23:15             M       White   \n",
      "2 2005-02-17 04:15:00  2005-02-17     04:15             M       White   \n",
      "3 2005-02-20 17:15:00  2005-02-20     17:15             M       White   \n",
      "4 2005-02-24 01:20:00  2005-02-24     01:20             F       White   \n",
      "\n",
      "                    violation_raw  violation  search_conducted search_type  \\\n",
      "0  Equipment/Inspection Violation  Equipment             False         NaN   \n",
      "1                        Speeding   Speeding             False         NaN   \n",
      "2                        Speeding   Speeding             False         NaN   \n",
      "3                Call for Service      Other             False         NaN   \n",
      "4                        Speeding   Speeding             False         NaN   \n",
      "\n",
      "    stop_outcome  is_arrested stop_duration  drugs_related_stop district  \\\n",
      "0       Citation        False      0-15 Min               False  Zone X4   \n",
      "1       Citation        False      0-15 Min               False  Zone K3   \n",
      "2       Citation        False      0-15 Min               False  Zone X4   \n",
      "3  Arrest Driver         True     16-30 Min               False  Zone X1   \n",
      "4       Citation        False      0-15 Min               False  Zone X3   \n",
      "\n",
      "   frisk  stop_minutes  \n",
      "0  False             8  \n",
      "1  False             8  \n",
      "2  False             8  \n",
      "3  False            23  \n",
      "4  False             8  \n"
     ]
    }
   ],
   "source": [
    "# Reset the index of 'ri'\n",
    "police.reset_index(inplace=True)\n",
    "\n",
    "# Examine the head of 'police'\n",
    "print(police.head())"
   ]
  },
  {
   "cell_type": "code",
   "execution_count": 39,
   "id": "loving-vehicle",
   "metadata": {},
   "outputs": [
    {
     "name": "stdout",
     "output_type": "stream",
     "text": [
      "         DATE rating\n",
      "0  2005-01-01    bad\n",
      "1  2005-01-02    bad\n",
      "2  2005-01-03    bad\n",
      "3  2005-01-04    bad\n",
      "4  2005-01-05    bad\n"
     ]
    }
   ],
   "source": [
    "# Create a DataFrame from the 'DATE' and 'rating' columns\n",
    "weather_rating = weather[['DATE', 'rating']]\n",
    "\n",
    "# Examine the head of 'weather_rating'\n",
    "print(weather_rating.head())"
   ]
  },
  {
   "cell_type": "code",
   "execution_count": 40,
   "id": "behavioral-factor",
   "metadata": {},
   "outputs": [
    {
     "name": "stdout",
     "output_type": "stream",
     "text": [
      "(86536, 16)\n",
      "(86536, 18)\n"
     ]
    }
   ],
   "source": [
    "# Examine the shape of 'police'\n",
    "print(police.shape)\n",
    "\n",
    "# Merge 'ri' and 'weather_rating' using a left join\n",
    "police_weather = pd.merge(left=police, right=weather_rating, left_on='stop_date', right_on='DATE', how='left')\n",
    "\n",
    "# Examine the shape of 'police_weather'\n",
    "print(police_weather.shape)\n",
    "\n",
    "# Set 'stop_datetime' as the index of 'police_weather'\n",
    "police_weather.set_index('stop_datetime', inplace=True)"
   ]
  },
  {
   "cell_type": "code",
   "execution_count": 41,
   "id": "accessible-vision",
   "metadata": {},
   "outputs": [
    {
     "name": "stdout",
     "output_type": "stream",
     "text": [
      "                      stop_date stop_time driver_gender driver_race  \\\n",
      "stop_datetime                                                         \n",
      "2005-01-04 12:55:00  2005-01-04     12:55             M       White   \n",
      "2005-01-23 23:15:00  2005-01-23     23:15             M       White   \n",
      "2005-02-17 04:15:00  2005-02-17     04:15             M       White   \n",
      "2005-02-20 17:15:00  2005-02-20     17:15             M       White   \n",
      "\n",
      "                                      violation_raw  violation  \\\n",
      "stop_datetime                                                    \n",
      "2005-01-04 12:55:00  Equipment/Inspection Violation  Equipment   \n",
      "2005-01-23 23:15:00                        Speeding   Speeding   \n",
      "2005-02-17 04:15:00                        Speeding   Speeding   \n",
      "2005-02-20 17:15:00                Call for Service      Other   \n",
      "\n",
      "                     search_conducted search_type   stop_outcome  is_arrested  \\\n",
      "stop_datetime                                                                   \n",
      "2005-01-04 12:55:00             False         NaN       Citation        False   \n",
      "2005-01-23 23:15:00             False         NaN       Citation        False   \n",
      "2005-02-17 04:15:00             False         NaN       Citation        False   \n",
      "2005-02-20 17:15:00             False         NaN  Arrest Driver         True   \n",
      "\n",
      "                    stop_duration  drugs_related_stop district  frisk  \\\n",
      "stop_datetime                                                           \n",
      "2005-01-04 12:55:00      0-15 Min               False  Zone X4  False   \n",
      "2005-01-23 23:15:00      0-15 Min               False  Zone K3  False   \n",
      "2005-02-17 04:15:00      0-15 Min               False  Zone X4  False   \n",
      "2005-02-20 17:15:00     16-30 Min               False  Zone X1  False   \n",
      "\n",
      "                     stop_minutes        DATE rating  \n",
      "stop_datetime                                         \n",
      "2005-01-04 12:55:00             8  2005-01-04    bad  \n",
      "2005-01-23 23:15:00             8  2005-01-23  worse  \n",
      "2005-02-17 04:15:00             8  2005-02-17   good  \n",
      "2005-02-20 17:15:00            23  2005-02-20    bad  \n"
     ]
    }
   ],
   "source": [
    "print(police_weather.head(4))"
   ]
  },
  {
   "cell_type": "code",
   "execution_count": 42,
   "id": "conscious-anthropology",
   "metadata": {},
   "outputs": [
    {
     "name": "stdout",
     "output_type": "stream",
     "text": [
      "Percentage arrest rate :  3.56%\n"
     ]
    }
   ],
   "source": [
    "# Calculate the overall arrest rate\n",
    "print(\"Percentage arrest rate : \", \"{0:.2f}%\".format(police_weather.is_arrested.mean() * 100))"
   ]
  },
  {
   "cell_type": "code",
   "execution_count": 43,
   "id": "faced-ultimate",
   "metadata": {},
   "outputs": [
    {
     "name": "stdout",
     "output_type": "stream",
     "text": [
      "rating\n",
      "good     1346\n",
      "bad      1410\n",
      "worse     322\n",
      "Name: is_arrested, dtype: int64\n"
     ]
    }
   ],
   "source": [
    "# Calculate the arrest rate for each 'rating'\n",
    "print(police_weather.groupby('rating').is_arrested.sum())"
   ]
  },
  {
   "cell_type": "code",
   "execution_count": 44,
   "id": "certified-movement",
   "metadata": {},
   "outputs": [
    {
     "name": "stdout",
     "output_type": "stream",
     "text": [
      "violation            rating\n",
      "Equipment            good      303\n",
      "                     bad       336\n",
      "                     worse      70\n",
      "Moving violation     good      414\n",
      "                     bad       428\n",
      "                     worse      98\n",
      "Other                good      139\n",
      "                     bad       172\n",
      "                     worse      40\n",
      "Registration/plates  good      143\n",
      "                     bad       160\n",
      "                     worse      37\n",
      "Seat belt            good       51\n",
      "                     bad        24\n",
      "                     worse       0\n",
      "Speeding             good      296\n",
      "                     bad       290\n",
      "                     worse      77\n",
      "Name: is_arrested, dtype: int64\n"
     ]
    }
   ],
   "source": [
    "# Save the output of the groupby operation from the last exercise\n",
    "arrest_rate = police_weather.groupby(['violation', 'rating'])['is_arrested'].sum()\n",
    "\n",
    "# Print the 'arrest_rate' Series\n",
    "print(arrest_rate)"
   ]
  },
  {
   "cell_type": "code",
   "execution_count": 45,
   "id": "recognized-aaron",
   "metadata": {},
   "outputs": [
    {
     "data": {
      "text/plain": [
       "pandas.core.series.Series"
      ]
     },
     "execution_count": 45,
     "metadata": {},
     "output_type": "execute_result"
    }
   ],
   "source": [
    "type(arrest_rate)"
   ]
  },
  {
   "cell_type": "code",
   "execution_count": 46,
   "id": "qualified-synthetic",
   "metadata": {},
   "outputs": [
    {
     "name": "stdout",
     "output_type": "stream",
     "text": [
      "the arrest rate for moving violations in bad weather is 428\n",
      "---------------\n",
      "rating\n",
      "good     296\n",
      "bad      290\n",
      "worse     77\n",
      "Name: is_arrested, dtype: int64\n"
     ]
    }
   ],
   "source": [
    "# Print the arrest rate for moving violations in bad weather\n",
    "print(\"the arrest rate for moving violations in bad weather is\", arrest_rate.loc['Moving violation', 'bad'])\n",
    "\n",
    "print(\"---------------\")\n",
    "\n",
    "# Print the arrest rates for speeding violations in all three weather conditions\n",
    "print(arrest_rate.loc['Speeding'])"
   ]
  },
  {
   "cell_type": "code",
   "execution_count": 47,
   "id": "billion-popularity",
   "metadata": {},
   "outputs": [
    {
     "name": "stdout",
     "output_type": "stream",
     "text": [
      "rating               good  bad  worse\n",
      "violation                            \n",
      "Equipment             303  336     70\n",
      "Moving violation      414  428     98\n",
      "Other                 139  172     40\n",
      "Registration/plates   143  160     37\n",
      "Seat belt              51   24      0\n",
      "Speeding              296  290     77\n"
     ]
    }
   ],
   "source": [
    "# Unstack the 'arrest_rate' Series into a DataFrame\n",
    "print(arrest_rate.unstack())"
   ]
  },
  {
   "cell_type": "code",
   "execution_count": 48,
   "id": "outer-exclusive",
   "metadata": {},
   "outputs": [
    {
     "name": "stdout",
     "output_type": "stream",
     "text": [
      "rating                   good       bad     worse\n",
      "violation                                        \n",
      "Equipment            0.059007  0.066311  0.097357\n",
      "Moving violation     0.056227  0.058050  0.065860\n",
      "Other                0.076966  0.087443  0.062893\n",
      "Registration/plates  0.081574  0.098160  0.115625\n",
      "Seat belt            0.028587  0.022493  0.000000\n",
      "Speeding             0.013405  0.013314  0.016886\n"
     ]
    }
   ],
   "source": [
    "# Create the same DataFrame using a pivot table\n",
    "print(police_weather.pivot_table(index='violation', columns='rating', values='is_arrested'))"
   ]
  }
 ],
 "metadata": {
  "kernelspec": {
   "display_name": "Python 3",
   "language": "python",
   "name": "python3"
  },
  "language_info": {
   "codemirror_mode": {
    "name": "ipython",
    "version": 3
   },
   "file_extension": ".py",
   "mimetype": "text/x-python",
   "name": "python",
   "nbconvert_exporter": "python",
   "pygments_lexer": "ipython3",
   "version": "3.8.2"
  }
 },
 "nbformat": 4,
 "nbformat_minor": 5
}
